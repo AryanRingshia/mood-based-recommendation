{
 "cells": [
  {
   "cell_type": "code",
   "execution_count": null,
   "metadata": {},
   "outputs": [],
   "source": [
    "from tensorflow import keras\n",
    "from keras.models import load_model"
   ]
  },
  {
   "cell_type": "code",
   "execution_count": null,
   "metadata": {},
   "outputs": [],
   "source": [
    "model = keras.models.load_model('my_model.h5')"
   ]
  },
  {
   "cell_type": "code",
   "execution_count": 79,
   "metadata": {},
   "outputs": [],
   "source": [
    "user = 1"
   ]
  },
  {
   "cell_type": "code",
   "execution_count": null,
   "metadata": {},
   "outputs": [],
   "source": [
    "import cv2\n",
    "import numpy as np\n",
    "import matplotlib.pyplot as plt\n",
    "from time import sleep\n",
    "from keras.preprocessing.image import img_to_array\n",
    "class_labels = {0: 'Angry', 1: 'Disgust', 2: 'Fear', 3: 'Happy', 4: 'Neutral', 5: 'Sad', 6: 'Surprise'}\n",
    "face_classifier = cv2.CascadeClassifier(cv2.data.haarcascades + \"haarcascade_frontalface_default.xml\")\n",
    "final_mood=[]\n",
    "def face_detector(img):\n",
    "    # Convert image to grayscale\n",
    "    gray = cv2.cvtColor(img,cv2.COLOR_BGR2GRAY)\n",
    "    faces = face_classifier.detectMultiScale(img, 1.3, 5)\n",
    "    if faces is ():\n",
    "        return (0,0,0,0), np.zeros((48,48), np.uint8), img\n",
    "    \n",
    "    for (x,y,w,h) in faces:\n",
    "        cv2.rectangle(img,(x,y),(x+w,y+h),(255,0,0),2)\n",
    "        roi_gray = gray[y:y+h, x:x+w]\n",
    "\n",
    "    try:\n",
    "        roi_gray = cv2.resize(roi_gray, (48, 48), interpolation = cv2.INTER_AREA)\n",
    "    except:\n",
    "        return (x,w,y,h), np.zeros((48,48), np.uint8), img\n",
    "    return (x,w,y,h), roi_gray, img\n",
    "\n",
    "cap = cv2.VideoCapture(0)\n",
    "\n",
    "while True:\n",
    "\n",
    "    ret, frame = cap.read()\n",
    "    rect, face, image = face_detector(frame)\n",
    "    if np.sum([face]) != 0.0:\n",
    "        roi = face.astype(\"float\") / 255.0\n",
    "        roi = img_to_array(roi)\n",
    "        roi = np.expand_dims(roi, axis=0)\n",
    "\n",
    "        # make a prediction on the ROI, then lookup the class\n",
    "        preds = model.predict(roi)[0]\n",
    "        label = class_labels[preds.argmax()]  \n",
    "        #print(label)\n",
    "        final_mood.append(label)\n",
    "        label_position = (rect[0] + int((rect[1]/2)), rect[2] + 25)\n",
    "        cv2.putText(image, label, label_position , cv2.FONT_HERSHEY_SIMPLEX,2, (0,255,0), 3)\n",
    "    else:\n",
    "        cv2.putText(image, \"No Face Found\", (20, 60) , cv2.FONT_HERSHEY_SIMPLEX,2, (0,255,0), 3)\n",
    "        \n",
    "    cv2.imshow(\"emotion detection\",image)\n",
    "    if cv2.waitKey(2) & 0xFF == ord('q'):\n",
    "        break\n",
    "        \n",
    "cap.release()\n",
    "cv2.destroyAllWindows()  "
   ]
  },
  {
   "cell_type": "code",
   "execution_count": null,
   "metadata": {},
   "outputs": [],
   "source": [
    "final_mood"
   ]
  },
  {
   "cell_type": "code",
   "execution_count": null,
   "metadata": {},
   "outputs": [],
   "source": [
    "mood= max(final_mood,key=final_mood.count)"
   ]
  },
  {
   "cell_type": "code",
   "execution_count": null,
   "metadata": {},
   "outputs": [],
   "source": [
    "mood"
   ]
  },
  {
   "cell_type": "code",
   "execution_count": null,
   "metadata": {},
   "outputs": [],
   "source": []
  },
  {
   "cell_type": "code",
   "execution_count": null,
   "metadata": {},
   "outputs": [],
   "source": []
  },
  {
   "cell_type": "code",
   "execution_count": 154,
   "metadata": {},
   "outputs": [],
   "source": [
    "mood = 'angry'\n",
    "userid = user"
   ]
  },
  {
   "cell_type": "markdown",
   "metadata": {
    "id": "gIM1huh6yVv9"
   },
   "source": [
    "**Build up a hybrid recommender system based on MovieLens database using content-based filtering and collaborative filtering algorithms**"
   ]
  },
  {
   "cell_type": "code",
   "execution_count": 155,
   "metadata": {},
   "outputs": [],
   "source": [
    "import numpy as np\n",
    "import pandas as pd \n",
    "import os"
   ]
  },
  {
   "cell_type": "code",
   "execution_count": 156,
   "metadata": {
    "id": "srfuj9Zg75iT",
    "outputId": "80d4073c-8c9e-4693-89e1-20052352a04d"
   },
   "outputs": [
    {
     "name": "stdout",
     "output_type": "stream",
     "text": [
      "Requirement already satisfied: fuzzywuzzy in /Users/aryanringshia/opt/anaconda3/lib/python3.8/site-packages (0.18.0)\r\n"
     ]
    }
   ],
   "source": [
    "!pip install fuzzywuzzy"
   ]
  },
  {
   "cell_type": "code",
   "execution_count": 157,
   "metadata": {},
   "outputs": [
    {
     "name": "stdout",
     "output_type": "stream",
     "text": [
      "Requirement already satisfied: surprise in /Users/aryanringshia/opt/anaconda3/lib/python3.8/site-packages (0.1)\r\n",
      "Requirement already satisfied: scikit-surprise in /Users/aryanringshia/opt/anaconda3/lib/python3.8/site-packages (from surprise) (1.1.1)\r\n",
      "Requirement already satisfied: joblib>=0.11 in /Users/aryanringshia/opt/anaconda3/lib/python3.8/site-packages (from scikit-surprise->surprise) (1.0.1)\r\n",
      "Requirement already satisfied: numpy>=1.11.2 in /Users/aryanringshia/opt/anaconda3/lib/python3.8/site-packages (from scikit-surprise->surprise) (1.20.3)\r\n",
      "Requirement already satisfied: scipy>=1.0.0 in /Users/aryanringshia/opt/anaconda3/lib/python3.8/site-packages (from scikit-surprise->surprise) (1.7.1)\r\n",
      "Requirement already satisfied: six>=1.10.0 in /Users/aryanringshia/opt/anaconda3/lib/python3.8/site-packages (from scikit-surprise->surprise) (1.16.0)\r\n"
     ]
    }
   ],
   "source": [
    "!pip install surprise"
   ]
  },
  {
   "cell_type": "code",
   "execution_count": 158,
   "metadata": {
    "execution": {
     "iopub.execute_input": "2022-05-13T08:59:22.509481Z",
     "iopub.status.busy": "2022-05-13T08:59:22.509148Z",
     "iopub.status.idle": "2022-05-13T08:59:22.514335Z",
     "shell.execute_reply": "2022-05-13T08:59:22.513481Z",
     "shell.execute_reply.started": "2022-05-13T08:59:22.509436Z"
    },
    "id": "8YiItDKN9nkm",
    "outputId": "0aa268a0-ac05-41dc-c9e5-53b8d214b4e2"
   },
   "outputs": [],
   "source": [
    "#run either\n",
    "#!pip install surprise\n",
    "# conda install -c conda-forge scikit-surprise"
   ]
  },
  {
   "cell_type": "code",
   "execution_count": 159,
   "metadata": {
    "id": "HwehAX688Dlt",
    "outputId": "8ec6a97c-5b6c-4d15-ffb9-d0b7607933dd"
   },
   "outputs": [],
   "source": [
    "import pandas as pd\n",
    "import numpy as np\n",
    "from sklearn.feature_extraction.text import CountVectorizer\n",
    "from sklearn.metrics.pairwise import cosine_similarity\n",
    "import matplotlib.pyplot as plt\n",
    "from scipy.sparse import csr_matrix\n",
    "from sklearn.neighbors import NearestNeighbors\n",
    "from fuzzywuzzy import fuzz\n",
    "\n",
    "from surprise import SVD, SVDpp, KNNBasic\n",
    "from surprise import Dataset\n",
    "from surprise.model_selection import cross_validate,train_test_split, GridSearchCV\n",
    "from surprise import NormalPredictor\n",
    "from surprise import Reader\n",
    "\n",
    "import re \n",
    "from sklearn.feature_extraction.text import TfidfVectorizer\n",
    "from nltk.corpus import stopwords\n",
    "from nltk.stem.porter import PorterStemmer\n",
    "import nltk"
   ]
  },
  {
   "cell_type": "markdown",
   "metadata": {
    "id": "7PnxP06HUPpc"
   },
   "source": [
    "**Read and have a look at the data**\n",
    "\n",
    "The data is downloaded from MovieLens dataset:\n",
    "https://grouplens.org/datasets/movielens/latest/\n",
    "\n",
    "The files needed are \"movies.csv\" and \"ratings.csv\""
   ]
  },
  {
   "cell_type": "code",
   "execution_count": 160,
   "metadata": {
    "id": "tplsL_fmKmvn",
    "outputId": "31c006ed-503d-48b3-ddb5-40b6bb3be654"
   },
   "outputs": [
    {
     "name": "stderr",
     "output_type": "stream",
     "text": [
      "[nltk_data] Downloading package stopwords to\n",
      "[nltk_data]     /Users/aryanringshia/nltk_data...\n",
      "[nltk_data]   Package stopwords is already up-to-date!\n"
     ]
    },
    {
     "data": {
      "text/plain": [
       "True"
      ]
     },
     "execution_count": 160,
     "metadata": {},
     "output_type": "execute_result"
    }
   ],
   "source": [
    "nltk.download('stopwords')"
   ]
  },
  {
   "cell_type": "code",
   "execution_count": 161,
   "metadata": {
    "id": "WA3WEp46A_jg"
   },
   "outputs": [],
   "source": [
    "movies = pd.read_csv(\"movies.csv\")\n",
    "ratings = pd.read_csv(\"ratings.csv\")\n",
    "genre_df = pd.read_csv(\"genres.csv\")"
   ]
  },
  {
   "cell_type": "code",
   "execution_count": 162,
   "metadata": {},
   "outputs": [],
   "source": [
    "# g = genre_df.loc[(genre_df['user']==1) & (genre_df['mood']==mood)]['genre'].iloc[0].split(',')[0].replace(\"'\",'').replace(\"[\",'').replace(\"]\",'')"
   ]
  },
  {
   "cell_type": "code",
   "execution_count": 163,
   "metadata": {},
   "outputs": [],
   "source": [
    "g = genre_df.loc[(genre_df['user']==1) & (genre_df['mood']==mood)]['genre'][0]"
   ]
  },
  {
   "cell_type": "code",
   "execution_count": 164,
   "metadata": {},
   "outputs": [
    {
     "data": {
      "text/plain": [
       "\"['Comedy']\""
      ]
     },
     "execution_count": 164,
     "metadata": {},
     "output_type": "execute_result"
    }
   ],
   "source": [
    "g"
   ]
  },
  {
   "cell_type": "code",
   "execution_count": 165,
   "metadata": {},
   "outputs": [
    {
     "data": {
      "text/html": [
       "<div>\n",
       "<style scoped>\n",
       "    .dataframe tbody tr th:only-of-type {\n",
       "        vertical-align: middle;\n",
       "    }\n",
       "\n",
       "    .dataframe tbody tr th {\n",
       "        vertical-align: top;\n",
       "    }\n",
       "\n",
       "    .dataframe thead th {\n",
       "        text-align: right;\n",
       "    }\n",
       "</style>\n",
       "<table border=\"1\" class=\"dataframe\">\n",
       "  <thead>\n",
       "    <tr style=\"text-align: right;\">\n",
       "      <th></th>\n",
       "      <th>userId</th>\n",
       "      <th>movieId</th>\n",
       "      <th>rating</th>\n",
       "      <th>timestamp</th>\n",
       "    </tr>\n",
       "  </thead>\n",
       "  <tbody>\n",
       "    <tr>\n",
       "      <th>0</th>\n",
       "      <td>1</td>\n",
       "      <td>16</td>\n",
       "      <td>4.0</td>\n",
       "      <td>1217897793</td>\n",
       "    </tr>\n",
       "    <tr>\n",
       "      <th>1</th>\n",
       "      <td>1</td>\n",
       "      <td>24</td>\n",
       "      <td>1.5</td>\n",
       "      <td>1217895807</td>\n",
       "    </tr>\n",
       "    <tr>\n",
       "      <th>2</th>\n",
       "      <td>1</td>\n",
       "      <td>32</td>\n",
       "      <td>4.0</td>\n",
       "      <td>1217896246</td>\n",
       "    </tr>\n",
       "    <tr>\n",
       "      <th>3</th>\n",
       "      <td>1</td>\n",
       "      <td>47</td>\n",
       "      <td>4.0</td>\n",
       "      <td>1217896556</td>\n",
       "    </tr>\n",
       "    <tr>\n",
       "      <th>4</th>\n",
       "      <td>1</td>\n",
       "      <td>50</td>\n",
       "      <td>4.0</td>\n",
       "      <td>1217896523</td>\n",
       "    </tr>\n",
       "  </tbody>\n",
       "</table>\n",
       "</div>"
      ],
      "text/plain": [
       "   userId  movieId  rating   timestamp\n",
       "0       1       16     4.0  1217897793\n",
       "1       1       24     1.5  1217895807\n",
       "2       1       32     4.0  1217896246\n",
       "3       1       47     4.0  1217896556\n",
       "4       1       50     4.0  1217896523"
      ]
     },
     "execution_count": 165,
     "metadata": {},
     "output_type": "execute_result"
    }
   ],
   "source": [
    "ratings.head()"
   ]
  },
  {
   "cell_type": "code",
   "execution_count": 166,
   "metadata": {},
   "outputs": [
    {
     "data": {
      "text/plain": [
       "\"['Comedy']\""
      ]
     },
     "execution_count": 166,
     "metadata": {},
     "output_type": "execute_result"
    }
   ],
   "source": [
    "g"
   ]
  },
  {
   "cell_type": "code",
   "execution_count": 167,
   "metadata": {},
   "outputs": [],
   "source": [
    "movies = movies[movies['genres'].str.contains(g)].reset_index()"
   ]
  },
  {
   "cell_type": "code",
   "execution_count": 168,
   "metadata": {},
   "outputs": [],
   "source": [
    "favs = ratings.loc[(ratings['userId']==1)].sort_values(by=['rating'], ascending=False)[:5]['movieId'].tolist()"
   ]
  },
  {
   "cell_type": "code",
   "execution_count": 169,
   "metadata": {},
   "outputs": [
    {
     "data": {
      "text/plain": [
       "[912, 1136, 4262, 1221, 2959]"
      ]
     },
     "execution_count": 169,
     "metadata": {},
     "output_type": "execute_result"
    }
   ],
   "source": [
    "ratings.loc[(ratings['userId']==1)].sort_values(by=['rating'], ascending=False)[:5]['movieId'].tolist()"
   ]
  },
  {
   "cell_type": "code",
   "execution_count": 170,
   "metadata": {},
   "outputs": [
    {
     "data": {
      "text/plain": [
       "'Monty Python and the Holy Grail (1975)'"
      ]
     },
     "execution_count": 170,
     "metadata": {},
     "output_type": "execute_result"
    }
   ],
   "source": [
    "str1 = ''\n",
    "str1.join(movies.loc[(movies['movieId']==1136)]['title'].to_list())"
   ]
  },
  {
   "cell_type": "code",
   "execution_count": 171,
   "metadata": {},
   "outputs": [],
   "source": [
    "favs_list = []\n",
    "for x in favs:\n",
    "    if movies.loc[(movies['movieId']==x)]['title'].empty == False:\n",
    "        favs_list.append(str1.join(movies.loc[(movies['movieId']==1136)]['title'].to_list()))"
   ]
  },
  {
   "cell_type": "code",
   "execution_count": 172,
   "metadata": {},
   "outputs": [
    {
     "data": {
      "text/plain": [
       "['Monty Python and the Holy Grail (1975)']"
      ]
     },
     "execution_count": 172,
     "metadata": {},
     "output_type": "execute_result"
    }
   ],
   "source": [
    "favs_list = list(set(favs_list))\n",
    "favs_list"
   ]
  },
  {
   "cell_type": "code",
   "execution_count": 173,
   "metadata": {
    "id": "zb86o6_iBH_h"
   },
   "outputs": [
    {
     "data": {
      "text/html": [
       "<div>\n",
       "<style scoped>\n",
       "    .dataframe tbody tr th:only-of-type {\n",
       "        vertical-align: middle;\n",
       "    }\n",
       "\n",
       "    .dataframe tbody tr th {\n",
       "        vertical-align: top;\n",
       "    }\n",
       "\n",
       "    .dataframe thead th {\n",
       "        text-align: right;\n",
       "    }\n",
       "</style>\n",
       "<table border=\"1\" class=\"dataframe\">\n",
       "  <thead>\n",
       "    <tr style=\"text-align: right;\">\n",
       "      <th></th>\n",
       "      <th>userId</th>\n",
       "      <th>movieId</th>\n",
       "      <th>rating</th>\n",
       "      <th>timestamp</th>\n",
       "    </tr>\n",
       "  </thead>\n",
       "  <tbody>\n",
       "    <tr>\n",
       "      <th>0</th>\n",
       "      <td>1</td>\n",
       "      <td>16</td>\n",
       "      <td>4.0</td>\n",
       "      <td>1217897793</td>\n",
       "    </tr>\n",
       "    <tr>\n",
       "      <th>1</th>\n",
       "      <td>1</td>\n",
       "      <td>24</td>\n",
       "      <td>1.5</td>\n",
       "      <td>1217895807</td>\n",
       "    </tr>\n",
       "    <tr>\n",
       "      <th>2</th>\n",
       "      <td>1</td>\n",
       "      <td>32</td>\n",
       "      <td>4.0</td>\n",
       "      <td>1217896246</td>\n",
       "    </tr>\n",
       "    <tr>\n",
       "      <th>3</th>\n",
       "      <td>1</td>\n",
       "      <td>47</td>\n",
       "      <td>4.0</td>\n",
       "      <td>1217896556</td>\n",
       "    </tr>\n",
       "    <tr>\n",
       "      <th>4</th>\n",
       "      <td>1</td>\n",
       "      <td>50</td>\n",
       "      <td>4.0</td>\n",
       "      <td>1217896523</td>\n",
       "    </tr>\n",
       "  </tbody>\n",
       "</table>\n",
       "</div>"
      ],
      "text/plain": [
       "   userId  movieId  rating   timestamp\n",
       "0       1       16     4.0  1217897793\n",
       "1       1       24     1.5  1217895807\n",
       "2       1       32     4.0  1217896246\n",
       "3       1       47     4.0  1217896556\n",
       "4       1       50     4.0  1217896523"
      ]
     },
     "execution_count": 173,
     "metadata": {},
     "output_type": "execute_result"
    }
   ],
   "source": [
    "ratings.head()"
   ]
  },
  {
   "cell_type": "code",
   "execution_count": 174,
   "metadata": {
    "id": "gkyIYTE_b5Ce"
   },
   "outputs": [
    {
     "data": {
      "text/html": [
       "<div>\n",
       "<style scoped>\n",
       "    .dataframe tbody tr th:only-of-type {\n",
       "        vertical-align: middle;\n",
       "    }\n",
       "\n",
       "    .dataframe tbody tr th {\n",
       "        vertical-align: top;\n",
       "    }\n",
       "\n",
       "    .dataframe thead th {\n",
       "        text-align: right;\n",
       "    }\n",
       "</style>\n",
       "<table border=\"1\" class=\"dataframe\">\n",
       "  <thead>\n",
       "    <tr style=\"text-align: right;\">\n",
       "      <th></th>\n",
       "      <th>index</th>\n",
       "      <th>movieId</th>\n",
       "      <th>title</th>\n",
       "      <th>genres</th>\n",
       "    </tr>\n",
       "  </thead>\n",
       "  <tbody>\n",
       "    <tr>\n",
       "      <th>0</th>\n",
       "      <td>0</td>\n",
       "      <td>1</td>\n",
       "      <td>Toy Story (1995)</td>\n",
       "      <td>Adventure|Animation|Children|Comedy|Fantasy</td>\n",
       "    </tr>\n",
       "    <tr>\n",
       "      <th>1</th>\n",
       "      <td>1</td>\n",
       "      <td>2</td>\n",
       "      <td>Jumanji (1995)</td>\n",
       "      <td>Adventure|Children|Fantasy</td>\n",
       "    </tr>\n",
       "    <tr>\n",
       "      <th>2</th>\n",
       "      <td>2</td>\n",
       "      <td>3</td>\n",
       "      <td>Grumpier Old Men (1995)</td>\n",
       "      <td>Comedy|Romance</td>\n",
       "    </tr>\n",
       "    <tr>\n",
       "      <th>3</th>\n",
       "      <td>3</td>\n",
       "      <td>4</td>\n",
       "      <td>Waiting to Exhale (1995)</td>\n",
       "      <td>Comedy|Drama|Romance</td>\n",
       "    </tr>\n",
       "    <tr>\n",
       "      <th>4</th>\n",
       "      <td>4</td>\n",
       "      <td>5</td>\n",
       "      <td>Father of the Bride Part II (1995)</td>\n",
       "      <td>Comedy</td>\n",
       "    </tr>\n",
       "    <tr>\n",
       "      <th>5</th>\n",
       "      <td>5</td>\n",
       "      <td>6</td>\n",
       "      <td>Heat (1995)</td>\n",
       "      <td>Action|Crime|Thriller</td>\n",
       "    </tr>\n",
       "    <tr>\n",
       "      <th>6</th>\n",
       "      <td>6</td>\n",
       "      <td>7</td>\n",
       "      <td>Sabrina (1995)</td>\n",
       "      <td>Comedy|Romance</td>\n",
       "    </tr>\n",
       "    <tr>\n",
       "      <th>7</th>\n",
       "      <td>7</td>\n",
       "      <td>8</td>\n",
       "      <td>Tom and Huck (1995)</td>\n",
       "      <td>Adventure|Children</td>\n",
       "    </tr>\n",
       "    <tr>\n",
       "      <th>8</th>\n",
       "      <td>8</td>\n",
       "      <td>9</td>\n",
       "      <td>Sudden Death (1995)</td>\n",
       "      <td>Action</td>\n",
       "    </tr>\n",
       "    <tr>\n",
       "      <th>9</th>\n",
       "      <td>9</td>\n",
       "      <td>10</td>\n",
       "      <td>GoldenEye (1995)</td>\n",
       "      <td>Action|Adventure|Thriller</td>\n",
       "    </tr>\n",
       "  </tbody>\n",
       "</table>\n",
       "</div>"
      ],
      "text/plain": [
       "   index  movieId                               title  \\\n",
       "0      0        1                    Toy Story (1995)   \n",
       "1      1        2                      Jumanji (1995)   \n",
       "2      2        3             Grumpier Old Men (1995)   \n",
       "3      3        4            Waiting to Exhale (1995)   \n",
       "4      4        5  Father of the Bride Part II (1995)   \n",
       "5      5        6                         Heat (1995)   \n",
       "6      6        7                      Sabrina (1995)   \n",
       "7      7        8                 Tom and Huck (1995)   \n",
       "8      8        9                 Sudden Death (1995)   \n",
       "9      9       10                    GoldenEye (1995)   \n",
       "\n",
       "                                        genres  \n",
       "0  Adventure|Animation|Children|Comedy|Fantasy  \n",
       "1                   Adventure|Children|Fantasy  \n",
       "2                               Comedy|Romance  \n",
       "3                         Comedy|Drama|Romance  \n",
       "4                                       Comedy  \n",
       "5                        Action|Crime|Thriller  \n",
       "6                               Comedy|Romance  \n",
       "7                           Adventure|Children  \n",
       "8                                       Action  \n",
       "9                    Action|Adventure|Thriller  "
      ]
     },
     "execution_count": 174,
     "metadata": {},
     "output_type": "execute_result"
    }
   ],
   "source": [
    "movies.head(10)"
   ]
  },
  {
   "cell_type": "code",
   "execution_count": 175,
   "metadata": {
    "execution": {
     "iopub.execute_input": "2022-05-13T08:59:24.555638Z",
     "iopub.status.busy": "2022-05-13T08:59:24.55495Z",
     "iopub.status.idle": "2022-05-13T08:59:24.572269Z",
     "shell.execute_reply": "2022-05-13T08:59:24.571647Z",
     "shell.execute_reply.started": "2022-05-13T08:59:24.555592Z"
    },
    "id": "Ee6OJdSdCy9h"
   },
   "outputs": [
    {
     "name": "stdout",
     "output_type": "stream",
     "text": [
      "[4.  1.5 3.  0.5 4.5 2.5 3.5 5.  2.  1. ]\n"
     ]
    }
   ],
   "source": [
    "ratings_array = ratings['rating'].unique()\n",
    "max_rating = np.amax( ratings_array )\n",
    "min_rating = np.amin( ratings_array )\n",
    "print( ratings_array )"
   ]
  },
  {
   "cell_type": "code",
   "execution_count": 176,
   "metadata": {
    "execution": {
     "iopub.execute_input": "2022-05-13T08:59:24.574933Z",
     "iopub.status.busy": "2022-05-13T08:59:24.574631Z",
     "iopub.status.idle": "2022-05-13T08:59:24.606325Z",
     "shell.execute_reply": "2022-05-13T08:59:24.605362Z",
     "shell.execute_reply.started": "2022-05-13T08:59:24.574891Z"
    },
    "id": "i7nS7m7SgC5G"
   },
   "outputs": [],
   "source": [
    "movie_map = pd.Series(movies.movieId.values,index=movies.title).to_dict()\n",
    "reverse_movie_map = {v: k for k, v in movie_map.items()}\n",
    "movieId_to_index_map = pd.Series(movies.index.values,index=movies.movieId).to_dict()\n",
    "movieId_all_array = movies['movieId'].unique()"
   ]
  },
  {
   "cell_type": "code",
   "execution_count": 177,
   "metadata": {
    "execution": {
     "iopub.execute_input": "2022-05-13T08:59:24.608033Z",
     "iopub.status.busy": "2022-05-13T08:59:24.60779Z",
     "iopub.status.idle": "2022-05-13T08:59:24.616077Z",
     "shell.execute_reply": "2022-05-13T08:59:24.615464Z",
     "shell.execute_reply.started": "2022-05-13T08:59:24.607997Z"
    },
    "id": "UzPeWFYQgwVS"
   },
   "outputs": [],
   "source": [
    "def get_movieId( movie_name ):\n",
    "    \"\"\"\n",
    "    return the movieId which is corresponding to the movie name\n",
    "\n",
    "    Parameters\n",
    "    ----------\n",
    "    movie_name: string, the name of the movie w/ or w/o the year\n",
    "\n",
    "    Return\n",
    "    ------\n",
    "    the movieId\n",
    "    \"\"\"\n",
    "\n",
    "    # If luckily the movie name is 100% equal to a name writen in the database,\n",
    "    # then return the id corresponding to the name.\n",
    "    # Or...we need to consider the similarity between strings \n",
    "    if (movie_name in movie_map):\n",
    "      return movie_map[movie_name]\n",
    "    else:\n",
    "      similar = []\n",
    "      for title, movie_id in movie_map.items():\n",
    "        ratio = fuzz.ratio(title.lower(), movie_name.lower())\n",
    "        if ( ratio >= 60):\n",
    "          similar.append( (title, movie_id, ratio ) )\n",
    "      if (len(similar) == 0):\n",
    "        print(\"Oh! This movie does not exist in the database.\")\n",
    "      else:\n",
    "        match_item = sorted( similar , key=lambda x: x[2] )[::-1]\n",
    "        print( \"The matched item might be:\", match_item[0][0], \", ratio=\",match_item[0][2] )\n",
    "        return match_item[0][1]"
   ]
  },
  {
   "cell_type": "markdown",
   "metadata": {
    "id": "-wob7AZdw_af"
   },
   "source": [
    "**Build up the content-based filtering algorithm with pairwise approach in TF-IDF vector space**"
   ]
  },
  {
   "cell_type": "code",
   "execution_count": 178,
   "metadata": {
    "execution": {
     "iopub.execute_input": "2022-05-13T08:59:24.617692Z",
     "iopub.status.busy": "2022-05-13T08:59:24.617279Z",
     "iopub.status.idle": "2022-05-13T08:59:24.63286Z",
     "shell.execute_reply": "2022-05-13T08:59:24.631897Z",
     "shell.execute_reply.started": "2022-05-13T08:59:24.617661Z"
    },
    "id": "F-L7mFlPz-OB"
   },
   "outputs": [],
   "source": [
    "def tokenizer(text):\n",
    "  torkenized = [PorterStemmer().stem(word).lower() for word in text.split('|') if word not in stopwords.words('english')]\n",
    "  return torkenized"
   ]
  },
  {
   "cell_type": "code",
   "execution_count": 179,
   "metadata": {
    "execution": {
     "iopub.execute_input": "2022-05-13T08:59:24.636198Z",
     "iopub.status.busy": "2022-05-13T08:59:24.635849Z",
     "iopub.status.idle": "2022-05-13T08:59:24.644996Z",
     "shell.execute_reply": "2022-05-13T08:59:24.644107Z",
     "shell.execute_reply.started": "2022-05-13T08:59:24.636151Z"
    },
    "id": "16LwZP3xGKDZ"
   },
   "outputs": [],
   "source": [
    "tfid=TfidfVectorizer(analyzer='word', tokenizer=tokenizer)"
   ]
  },
  {
   "cell_type": "code",
   "execution_count": 180,
   "metadata": {
    "execution": {
     "iopub.execute_input": "2022-05-13T08:59:24.648296Z",
     "iopub.status.busy": "2022-05-13T08:59:24.647977Z",
     "iopub.status.idle": "2022-05-13T08:59:28.898726Z",
     "shell.execute_reply": "2022-05-13T08:59:28.897851Z",
     "shell.execute_reply.started": "2022-05-13T08:59:24.648259Z"
    },
    "id": "665WPSW9Gze-"
   },
   "outputs": [],
   "source": [
    "tfidf_matrix = tfid.fit_transform(movies['genres'])"
   ]
  },
  {
   "cell_type": "code",
   "execution_count": 181,
   "metadata": {
    "execution": {
     "iopub.execute_input": "2022-05-13T08:59:28.900269Z",
     "iopub.status.busy": "2022-05-13T08:59:28.900016Z",
     "iopub.status.idle": "2022-05-13T08:59:30.86225Z",
     "shell.execute_reply": "2022-05-13T08:59:30.861404Z",
     "shell.execute_reply.started": "2022-05-13T08:59:28.900239Z"
    },
    "id": "u3qBNOTLIrWA"
   },
   "outputs": [],
   "source": [
    "cos_sim = cosine_similarity(tfidf_matrix,tfidf_matrix)"
   ]
  },
  {
   "cell_type": "code",
   "execution_count": 182,
   "metadata": {
    "execution": {
     "iopub.execute_input": "2022-05-13T08:59:30.864561Z",
     "iopub.status.busy": "2022-05-13T08:59:30.863665Z",
     "iopub.status.idle": "2022-05-13T08:59:30.870397Z",
     "shell.execute_reply": "2022-05-13T08:59:30.869373Z",
     "shell.execute_reply.started": "2022-05-13T08:59:30.864515Z"
    },
    "id": "L_UB6580J6pr"
   },
   "outputs": [
    {
     "name": "stdout",
     "output_type": "stream",
     "text": [
      "(10272, 20)\n",
      "(10272, 10272)\n",
      "(10272, 4)\n"
     ]
    }
   ],
   "source": [
    "print(tfidf_matrix.shape)\n",
    "print(cos_sim.shape)\n",
    "print(movies.shape)"
   ]
  },
  {
   "cell_type": "markdown",
   "metadata": {
    "id": "EUc9w5sNh0Y5"
   },
   "source": [
    "**Build up the Singular Value Decomposition (SVD) matrix factorization model in collaborative filtering algorithm**"
   ]
  },
  {
   "cell_type": "code",
   "execution_count": 183,
   "metadata": {
    "execution": {
     "iopub.execute_input": "2022-05-13T09:00:27.006083Z",
     "iopub.status.busy": "2022-05-13T09:00:27.005644Z",
     "iopub.status.idle": "2022-05-13T09:00:27.171738Z",
     "shell.execute_reply": "2022-05-13T09:00:27.170934Z",
     "shell.execute_reply.started": "2022-05-13T09:00:27.00605Z"
    },
    "id": "K1ujh5XFDGq7"
   },
   "outputs": [],
   "source": [
    "features = ['userId','movieId', 'rating']\n",
    "reader = Reader(rating_scale=(min_rating, max_rating))\n",
    "data = Dataset.load_from_df(ratings[features], reader)\n",
    "param_grid = {'n_epochs': [5, 10], 'lr_all': [0.002, 0.005],\n",
    "              'reg_all': [0.4, 0.6]}\n",
    "gs = GridSearchCV(SVD, param_grid, measures=['rmse', 'mae'], cv=3)"
   ]
  },
  {
   "cell_type": "code",
   "execution_count": 184,
   "metadata": {
    "execution": {
     "iopub.execute_input": "2022-05-13T09:00:27.462099Z",
     "iopub.status.busy": "2022-05-13T09:00:27.461833Z",
     "iopub.status.idle": "2022-05-13T09:00:35.830218Z",
     "shell.execute_reply": "2022-05-13T09:00:35.829082Z",
     "shell.execute_reply.started": "2022-05-13T09:00:27.462071Z"
    },
    "id": "Djw4_WAeEKGu"
   },
   "outputs": [],
   "source": [
    "gs.fit(data)"
   ]
  },
  {
   "cell_type": "code",
   "execution_count": 185,
   "metadata": {
    "execution": {
     "iopub.execute_input": "2022-05-13T09:00:35.832335Z",
     "iopub.status.busy": "2022-05-13T09:00:35.83204Z",
     "iopub.status.idle": "2022-05-13T09:00:35.837509Z",
     "shell.execute_reply": "2022-05-13T09:00:35.836729Z",
     "shell.execute_reply.started": "2022-05-13T09:00:35.832295Z"
    },
    "id": "ckrUoOVkDsgJ"
   },
   "outputs": [
    {
     "name": "stdout",
     "output_type": "stream",
     "text": [
      "0.8902151090922787\n",
      "{'n_epochs': 10, 'lr_all': 0.005, 'reg_all': 0.4}\n"
     ]
    }
   ],
   "source": [
    "print(gs.best_score['rmse'])\n",
    "print(gs.best_params['rmse'])\n"
   ]
  },
  {
   "cell_type": "code",
   "execution_count": 186,
   "metadata": {
    "execution": {
     "iopub.execute_input": "2022-05-13T09:00:35.838808Z",
     "iopub.status.busy": "2022-05-13T09:00:35.83858Z",
     "iopub.status.idle": "2022-05-13T09:00:38.946743Z",
     "shell.execute_reply": "2022-05-13T09:00:38.945602Z",
     "shell.execute_reply.started": "2022-05-13T09:00:35.838781Z"
    },
    "id": "w2ymwhUuXfyT"
   },
   "outputs": [
    {
     "data": {
      "text/plain": [
       "<surprise.prediction_algorithms.matrix_factorization.SVD at 0x7fea89343a00>"
      ]
     },
     "execution_count": 186,
     "metadata": {},
     "output_type": "execute_result"
    }
   ],
   "source": [
    "best_params = gs.best_params['rmse']\n",
    "model_svd = gs.best_estimator['rmse']\n",
    "model_svd.fit(data.build_full_trainset())"
   ]
  },
  {
   "cell_type": "code",
   "execution_count": 187,
   "metadata": {
    "execution": {
     "iopub.execute_input": "2022-05-13T09:00:38.948944Z",
     "iopub.status.busy": "2022-05-13T09:00:38.948684Z",
     "iopub.status.idle": "2022-05-13T09:00:38.955098Z",
     "shell.execute_reply": "2022-05-13T09:00:38.954021Z",
     "shell.execute_reply.started": "2022-05-13T09:00:38.948915Z"
    }
   },
   "outputs": [
    {
     "data": {
      "text/plain": [
       "{'n_epochs': 10, 'lr_all': 0.005, 'reg_all': 0.4}"
      ]
     },
     "execution_count": 187,
     "metadata": {},
     "output_type": "execute_result"
    }
   ],
   "source": [
    "best_params"
   ]
  },
  {
   "cell_type": "code",
   "execution_count": 188,
   "metadata": {
    "execution": {
     "iopub.execute_input": "2022-05-13T09:00:41.786312Z",
     "iopub.status.busy": "2022-05-13T09:00:41.785982Z",
     "iopub.status.idle": "2022-05-13T09:00:41.792057Z",
     "shell.execute_reply": "2022-05-13T09:00:41.79095Z",
     "shell.execute_reply.started": "2022-05-13T09:00:41.786279Z"
    },
    "id": "OPmq1jODkYLL"
   },
   "outputs": [],
   "source": [
    "def get_rating_from_prediction( prediction, ratings_array ):\n",
    "    \"\"\"\n",
    "    return the closest rating number to the prediction value\n",
    "\n",
    "    Parameters\n",
    "    ----------\n",
    "    prediction: float, the prediction value from the model\n",
    "\n",
    "    ratings_array: the 1D array of the discrete rating number\n",
    "\n",
    "    Return\n",
    "    ------\n",
    "    the rating number corresponding to the prediction value\n",
    "    \"\"\"\n",
    "    rating = ratings_array[ np.argmin( [ np.abs(item - prediction) for item in ratings_array ] ) ]\n",
    "    return rating"
   ]
  },
  {
   "cell_type": "code",
   "execution_count": 189,
   "metadata": {
    "execution": {
     "iopub.execute_input": "2022-05-13T09:00:42.210495Z",
     "iopub.status.busy": "2022-05-13T09:00:42.210211Z",
     "iopub.status.idle": "2022-05-13T09:00:42.219817Z",
     "shell.execute_reply": "2022-05-13T09:00:42.219055Z",
     "shell.execute_reply.started": "2022-05-13T09:00:42.210468Z"
    },
    "id": "7wv_r1aoZWCv"
   },
   "outputs": [
    {
     "name": "stdout",
     "output_type": "stream",
     "text": [
      "rating Series([], Name: rating, dtype: float64)\n",
      "prediction 3.7318764546355645\n"
     ]
    }
   ],
   "source": [
    "prediction = model_svd.predict(1,1)\n",
    "print(\"rating\", ratings[(ratings.userId ==1 ) & (ratings.movieId ==1 ) ]['rating']  )\n",
    "print(\"prediction\",prediction.est)"
   ]
  },
  {
   "cell_type": "markdown",
   "metadata": {
    "id": "TmrP_oojwyX0"
   },
   "source": [
    "**Make movie recommendation (item-based)**"
   ]
  },
  {
   "cell_type": "code",
   "execution_count": 190,
   "metadata": {
    "execution": {
     "iopub.execute_input": "2022-05-13T09:00:42.980089Z",
     "iopub.status.busy": "2022-05-13T09:00:42.979802Z",
     "iopub.status.idle": "2022-05-13T09:00:42.993005Z",
     "shell.execute_reply": "2022-05-13T09:00:42.992007Z",
     "shell.execute_reply.started": "2022-05-13T09:00:42.980061Z"
    },
    "id": "DA129zfyzvqG"
   },
   "outputs": [],
   "source": [
    "def make_recommendation_item_based( similarity_matrix ,movieId_all_array, ratings_data, id_to_movie_map, movieId_to_index_map, fav_movie_list, n_recommendations, userId=-99):\n",
    "    \"\"\"\n",
    "    return top n movie recommendation based on user's input list of favorite movies\n",
    "    Currently, fav_movie_list only support one input favorate movie\n",
    "\n",
    "    Parameters\n",
    "    ----------\n",
    "    similarity_matrix: 2d array, the pairwise similarity matrix\n",
    "\n",
    "    movieId_all_array: 1d array, the array of all movie Id\n",
    "\n",
    "    ratings_data: ratings data\n",
    "\n",
    "    id_to_movie_map: the map from movieId to movie title\n",
    "\n",
    "    movieId_to_index_map: the map from movieId to the index of the movie dataframe\n",
    "\n",
    "    fav_movie_list: list, user's list of favorite movies\n",
    "\n",
    "    n_recommendations: int, top n recommendations\n",
    "\n",
    "    userId: int optional (default=-99), the user Id\n",
    "            if userId = -99, the new user will be created\n",
    "            if userId = -1, the latest inserted user is chosen\n",
    "\n",
    "    Return\n",
    "    ------\n",
    "    list of top n movie recommendations\n",
    "\n",
    "    \"\"\"\n",
    "\n",
    "    if (userId == -99):\n",
    "      userId = np.amax( ratings_data['userId'].unique() ) + 1\n",
    "    elif (userId == -1):\n",
    "      userId = np.amax( ratings_data['userId'].unique() )\n",
    "\n",
    "    movieId_list = []\n",
    "    for movie_name in fav_movie_list:\n",
    "      movieId_list.append( get_movieId(movie_name) )    \n",
    "\n",
    "    # Get the movie id which corresponding to the movie the user didn't watch before\n",
    "    movieId_user_exist = list( ratings_data[ ratings_data.userId==userId ]['movieId'].unique() )\n",
    "    movieId_user_exist = movieId_user_exist + movieId_list\n",
    "    movieId_input = []\n",
    "    for movieId in movieId_all_array:\n",
    "      if (movieId not in movieId_user_exist):\n",
    "         movieId_input.append( movieId )\n",
    "\n",
    "\n",
    "    index = movieId_to_index_map[movieId_list[0]]\n",
    "    cos_sim_scores=list(enumerate(similarity_matrix[index]))\n",
    "    cos_sim_scores=sorted(cos_sim_scores,key=lambda x:x[1],reverse=True) \n",
    "  \n",
    "    topn_movieIndex = []\n",
    "    icount = 0\n",
    "    for i in range(len(cos_sim_scores)):\n",
    "      if( cos_sim_scores[i][0] in [movieId_to_index_map[ids] for ids in movieId_input ]  ):\n",
    "        icount += 1\n",
    "        topn_movieIndex.append( cos_sim_scores[i][0] )\n",
    "        if( icount == n_recommendations ):\n",
    "          break\n",
    "    \n",
    "    topn_movie = [ movies.loc[index].title for index in topn_movieIndex ]\n",
    "    return topn_movie\n",
    "\n"
   ]
  },
  {
   "cell_type": "markdown",
   "metadata": {
    "id": "5dqd4j3s50EP"
   },
   "source": [
    "**Make movie recommendation (user-based)**\n",
    "\n"
   ]
  },
  {
   "cell_type": "code",
   "execution_count": 191,
   "metadata": {
    "execution": {
     "iopub.execute_input": "2022-05-13T09:00:43.576652Z",
     "iopub.status.busy": "2022-05-13T09:00:43.575977Z",
     "iopub.status.idle": "2022-05-13T09:00:43.590993Z",
     "shell.execute_reply": "2022-05-13T09:00:43.590332Z",
     "shell.execute_reply.started": "2022-05-13T09:00:43.5766Z"
    },
    "id": "0hMg_RhI5zYP"
   },
   "outputs": [],
   "source": [
    "def make_recommendation_user_based(best_model_params, movieId_all_array, ratings_data, id_to_movie_map,\n",
    "                        fav_movie_list, n_recommendations, userId=-99 ):\n",
    "    \"\"\"\n",
    "    return top n movie recommendation based on user's input list of favorite movies\n",
    "    Currently, fav_movie_list only support one input favorate movie\n",
    "\n",
    "\n",
    "    Parameters\n",
    "    ----------\n",
    "    best_model_params: dict, {'iterations': iter, 'rank': rank, 'lambda_': reg}\n",
    "\n",
    "    movieId_all_array: the array of all movie Id\n",
    "\n",
    "    ratings_data: ratings data\n",
    "\n",
    "    id_to_movie_map: the map from movieId to movie title\n",
    "\n",
    "    fav_movie_list: list, user's list of favorite movies\n",
    "\n",
    "    n_recommendations: int, top n recommendations\n",
    "\n",
    "    userId: int optional (default=-99), the user Id\n",
    "            if userId = -99, the new user will be created\n",
    "            if userId = -1, the latest inserted user is chosen\n",
    "\n",
    "    Return\n",
    "    ------\n",
    "    list of top n movie recommendations\n",
    "    \"\"\"\n",
    "\n",
    "    movieId_list = []\n",
    "    for movie_name in fav_movie_list:\n",
    "      movieId_list.append( get_movieId(movie_name) )\n",
    "\n",
    "    if (userId == -99):\n",
    "      userId = np.amax( ratings_data['userId'].unique() ) + 1\n",
    "    elif (userId == -1):\n",
    "      userId = np.amax( ratings_data['userId'].unique() )\n",
    "\n",
    "    ratings_array = ratings['rating'].unique()\n",
    "    max_rating = np.amax( ratings_array )\n",
    "    min_rating = np.amin( ratings_array )\n",
    "    \n",
    "    # create the new row which corresponding to the input data\n",
    "    user_rows = [[userId, movieId, max_rating] for movieId in movieId_list]\n",
    "    df = pd.DataFrame(user_rows, columns =['userId', 'movieId', 'rating']) \n",
    "    train_data = pd.concat([ratings_data, df], ignore_index=True, sort=False)\n",
    "\n",
    "    # Get the movie id which corresponding to the movie the user didn't watch before\n",
    "    movieId_user_exist = train_data[ train_data.userId==userId ]['movieId'].unique()\n",
    "    movieId_input = []\n",
    "    for movieId in movieId_all_array:\n",
    "      if (movieId not in movieId_user_exist):\n",
    "         movieId_input.append( movieId )\n",
    "\n",
    "    reader = Reader(rating_scale=(min_rating, max_rating))\n",
    "\n",
    "    data = Dataset.load_from_df(train_data, reader)\n",
    "\n",
    "    model = SVD(**best_model_params)\n",
    "    model.fit(data.build_full_trainset())\n",
    "\n",
    "    predictions = []\n",
    "    for movieId in movieId_input:\n",
    "      predictions.append( model.predict(userId,movieId) )\n",
    "\n",
    "    \n",
    "    sort_index = sorted(range(len(predictions)), key=lambda k: predictions[k].est, reverse=True)\n",
    "    topn_predictions = [ predictions[i].est for i in sort_index[0:min(n_recommendations,len(predictions))] ]\n",
    "    topn_movieIds = [ movieId_input[i] for i in sort_index[0:min(n_recommendations,len(predictions))] ]\n",
    "    topn_rating = [ get_rating_from_prediction( pre, ratings_array ) for pre in topn_predictions ]\n",
    "\n",
    "    topn_movie = [ id_to_movie_map[ ids ] for ids in topn_movieIds ]\n",
    "    return topn_movie\n",
    "\n"
   ]
  },
  {
   "cell_type": "markdown",
   "metadata": {
    "id": "dP-vzv49t0lM"
   },
   "source": [
    "**Make a recommendation!**"
   ]
  },
  {
   "cell_type": "code",
   "execution_count": 192,
   "metadata": {
    "execution": {
     "iopub.execute_input": "2022-05-13T09:00:44.108933Z",
     "iopub.status.busy": "2022-05-13T09:00:44.108641Z",
     "iopub.status.idle": "2022-05-13T09:00:47.728692Z",
     "shell.execute_reply": "2022-05-13T09:00:47.727756Z",
     "shell.execute_reply.started": "2022-05-13T09:00:44.108905Z"
    },
    "id": "V8YoGmdQO6LC",
    "outputId": "cccb755e-149d-4f33-b2b3-6cf2ff5d8111"
   },
   "outputs": [
    {
     "name": "stdout",
     "output_type": "stream",
     "text": [
      "-------------Search based on item's content similarity--------------------\n",
      "The movies similar to ['Monty Python and the Holy Grail (1975)'] :\n",
      "1 Dogma (1999)\n",
      "2 Hook (1991)\n",
      "3 Adventures of Baron Munchausen, The (1988)\n",
      "4 Erik the Viking (1989)\n",
      "5 Black Knight (2001)\n",
      "6 Jabberwocky (1977)\n",
      "7 10th Kingdom, The (2000)\n",
      "8 Asterix & Obelix: Mission Cleopatra (Astérix & Obélix: Mission Cléopâtre) (2002)\n",
      "9 Life Aquatic with Steve Zissou, The (2004)\n",
      "10 Nim's Island (2008)\n",
      "11 Colour of Magic, The (Terry Pratchett's The Colour of Magic) (2008)\n",
      "12 Gulliver's Travels (2010)\n",
      "13 Dark Crystal, The (1982)\n",
      "14 Excalibur (1981)\n",
      "15 Sinbad and the Eye of the Tiger (1977)\n",
      "16 Lord of the Rings: The Fellowship of the Ring, The (2001)\n",
      "17 Harry Potter and the Chamber of Secrets (2002)\n",
      "18 Lord of the Rings: The Two Towers, The (2002)\n",
      "19 Thief of Bagdad, The (1940)\n",
      "20 Jungle Book (1942)\n",
      "--------------Search based on similarity between user's preference--------------------------------------\n",
      "The users like ['Monty Python and the Holy Grail (1975)'] also like:\n",
      "1 Shawshank Redemption, The (1994)\n",
      "2 Citizen Kane (1941)\n",
      "3 Cinema Paradiso (Nuovo cinema Paradiso) (1989)\n",
      "4 Godfather, The (1972)\n",
      "5 Princess Mononoke (Mononoke-hime) (1997)\n",
      "6 Ran (1985)\n",
      "7 Usual Suspects, The (1995)\n",
      "8 Third Man, The (1949)\n",
      "9 North by Northwest (1959)\n",
      "10 Nausicaä of the Valley of the Wind (Kaze no tani no Naushika) (1984)\n",
      "11 Rear Window (1954)\n",
      "12 Schindler's List (1993)\n",
      "13 Touch of Evil (1958)\n",
      "14 Intouchables (2011)\n",
      "15 One Flew Over the Cuckoo's Nest (1975)\n",
      "16 City of Lost Children, The (Cité des enfants perdus, La) (1995)\n",
      "17 Pride & Prejudice (2005)\n",
      "18 Fargo (1996)\n",
      "19 Casablanca (1942)\n",
      "20 Departed, The (2006)\n"
     ]
    }
   ],
   "source": [
    "my_favorite_movies = favs_list\n",
    "#['Iron Man']\n",
    "\n",
    "# get recommends\n",
    "n_recommendations = 20\n",
    "\n",
    "recommends_item_based = make_recommendation_item_based( \n",
    "    similarity_matrix = cos_sim,\n",
    "    movieId_all_array = movieId_all_array,\n",
    "    ratings_data = ratings[features], \n",
    "    id_to_movie_map = reverse_movie_map, \n",
    "    movieId_to_index_map = movieId_to_index_map,\n",
    "    fav_movie_list = my_favorite_movies, \n",
    "    n_recommendations = n_recommendations)\n",
    "\n",
    "recommends_user_based = make_recommendation_user_based(\n",
    "    best_model_params = best_params, \n",
    "    movieId_all_array = movieId_all_array,\n",
    "    ratings_data = ratings[features], \n",
    "    id_to_movie_map = reverse_movie_map, \n",
    "    fav_movie_list = my_favorite_movies, \n",
    "    n_recommendations = n_recommendations)\n",
    "\n",
    "print(\"-------------Search based on item's content similarity--------------------\")\n",
    "print('The movies similar to' , my_favorite_movies , ':' )\n",
    "for i, title in enumerate(recommends_item_based):\n",
    "    print(i+1, title)  \n",
    "if( len(recommends_item_based) < n_recommendations ):\n",
    "  print(\"Sadly, we couldn't offer so many recommendations :(\")    \n",
    "\n",
    "print(\"--------------Search based on similarity between user's preference--------------------------------------\")\n",
    "print('The users like' , my_favorite_movies , 'also like:')\n",
    "for i, title in enumerate(recommends_user_based):\n",
    "    print(i+1, title)\n",
    "if( len(recommends_user_based) < n_recommendations ):\n",
    "  print(\"Sadly, we couldn't offer so many recommendations :(\")"
   ]
  },
  {
   "cell_type": "code",
   "execution_count": null,
   "metadata": {},
   "outputs": [],
   "source": []
  },
  {
   "cell_type": "code",
   "execution_count": null,
   "metadata": {},
   "outputs": [],
   "source": []
  }
 ],
 "metadata": {
  "kernelspec": {
   "display_name": "Python 3 (ipykernel)",
   "language": "python",
   "name": "python3"
  },
  "language_info": {
   "codemirror_mode": {
    "name": "ipython",
    "version": 3
   },
   "file_extension": ".py",
   "mimetype": "text/x-python",
   "name": "python",
   "nbconvert_exporter": "python",
   "pygments_lexer": "ipython3",
   "version": "3.8.11"
  }
 },
 "nbformat": 4,
 "nbformat_minor": 4
}
