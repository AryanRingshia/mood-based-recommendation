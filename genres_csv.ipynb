{
 "cells": [
  {
   "cell_type": "code",
   "execution_count": 2,
   "id": "f37fdd63",
   "metadata": {},
   "outputs": [],
   "source": [
    "import numpy as np\n",
    "import pandas as pd \n",
    "import os"
   ]
  },
  {
   "cell_type": "code",
   "execution_count": 3,
   "id": "3c02e8bd",
   "metadata": {},
   "outputs": [],
   "source": [
    "movies = pd.read_csv(\"movies.csv\")\n",
    "ratings = pd.read_csv(\"ratings.csv\")"
   ]
  },
  {
   "cell_type": "code",
   "execution_count": null,
   "id": "bc997045",
   "metadata": {},
   "outputs": [],
   "source": []
  },
  {
   "cell_type": "code",
   "execution_count": 26,
   "id": "a8cdbacd",
   "metadata": {},
   "outputs": [
    {
     "data": {
      "text/plain": [
       "0        [Adventure, Animation, Children, Comedy, Fantasy]\n",
       "1                           [Adventure, Children, Fantasy]\n",
       "2                                        [Comedy, Romance]\n",
       "3                                 [Comedy, Drama, Romance]\n",
       "4                                                 [Comedy]\n",
       "                               ...                        \n",
       "10324                        [Animation, Children, Comedy]\n",
       "10325                                             [Comedy]\n",
       "10326                                             [Comedy]\n",
       "10327                                              [Drama]\n",
       "10328                                 [(no genres listed)]\n",
       "Name: genres, Length: 10329, dtype: object"
      ]
     },
     "execution_count": 26,
     "metadata": {},
     "output_type": "execute_result"
    }
   ],
   "source": [
    "#movies['genres'][0].split('|')\n",
    "movies['genres'].str.split('|')"
   ]
  },
  {
   "cell_type": "code",
   "execution_count": 6,
   "id": "cfa38d46",
   "metadata": {},
   "outputs": [],
   "source": [
    "user_unique = movies['movieId'].unique()\n",
    "user_col = np.repeat(user_unique,7).tolist()"
   ]
  },
  {
   "cell_type": "code",
   "execution_count": 7,
   "id": "578cd1e1",
   "metadata": {},
   "outputs": [],
   "source": [
    "moods = ['angry', 'disgusted', 'fearful', 'happy', 'sad', 'surprised', 'neutral']"
   ]
  },
  {
   "cell_type": "code",
   "execution_count": 8,
   "id": "5126f721",
   "metadata": {},
   "outputs": [],
   "source": [
    "mood_col = moods*len(user_unique)"
   ]
  },
  {
   "cell_type": "code",
   "execution_count": 9,
   "id": "39d2ac51",
   "metadata": {},
   "outputs": [],
   "source": [
    "genre_df = pd.DataFrame(list(zip(user_col, mood_col)),\n",
    "               columns =['user', 'mood'])"
   ]
  },
  {
   "cell_type": "code",
   "execution_count": 14,
   "id": "f7e4cb31",
   "metadata": {},
   "outputs": [],
   "source": [
    "genre_df['genre'] = 0\n",
    "#genre_df = genre_df.astype('object')"
   ]
  },
  {
   "cell_type": "code",
   "execution_count": 27,
   "id": "b3d647bd",
   "metadata": {},
   "outputs": [],
   "source": [
    "genre_df.loc[(genre_df['user']==1) & (genre_df['mood']=='angry'), 'genre'] = \"['Comedy']\""
   ]
  },
  {
   "cell_type": "code",
   "execution_count": 28,
   "id": "7b86fa70",
   "metadata": {},
   "outputs": [],
   "source": [
    "genre_df.loc[(genre_df['user']==1) & (genre_df['mood']=='disgusted'), 'genre'] = \"['Children', 'Animation']\""
   ]
  },
  {
   "cell_type": "code",
   "execution_count": 29,
   "id": "20a50a9b",
   "metadata": {},
   "outputs": [],
   "source": [
    "genre_df.to_csv('genres.csv')"
   ]
  },
  {
   "cell_type": "code",
   "execution_count": 30,
   "id": "0837b535",
   "metadata": {},
   "outputs": [
    {
     "data": {
      "text/html": [
       "<div>\n",
       "<style scoped>\n",
       "    .dataframe tbody tr th:only-of-type {\n",
       "        vertical-align: middle;\n",
       "    }\n",
       "\n",
       "    .dataframe tbody tr th {\n",
       "        vertical-align: top;\n",
       "    }\n",
       "\n",
       "    .dataframe thead th {\n",
       "        text-align: right;\n",
       "    }\n",
       "</style>\n",
       "<table border=\"1\" class=\"dataframe\">\n",
       "  <thead>\n",
       "    <tr style=\"text-align: right;\">\n",
       "      <th></th>\n",
       "      <th>user</th>\n",
       "      <th>mood</th>\n",
       "      <th>genre</th>\n",
       "    </tr>\n",
       "  </thead>\n",
       "  <tbody>\n",
       "    <tr>\n",
       "      <th>0</th>\n",
       "      <td>1</td>\n",
       "      <td>angry</td>\n",
       "      <td>['Comedy']</td>\n",
       "    </tr>\n",
       "    <tr>\n",
       "      <th>1</th>\n",
       "      <td>1</td>\n",
       "      <td>disgusted</td>\n",
       "      <td>['Children', 'Animation']</td>\n",
       "    </tr>\n",
       "    <tr>\n",
       "      <th>2</th>\n",
       "      <td>1</td>\n",
       "      <td>fearful</td>\n",
       "      <td>0</td>\n",
       "    </tr>\n",
       "    <tr>\n",
       "      <th>3</th>\n",
       "      <td>1</td>\n",
       "      <td>happy</td>\n",
       "      <td>0</td>\n",
       "    </tr>\n",
       "    <tr>\n",
       "      <th>4</th>\n",
       "      <td>1</td>\n",
       "      <td>sad</td>\n",
       "      <td>0</td>\n",
       "    </tr>\n",
       "    <tr>\n",
       "      <th>...</th>\n",
       "      <td>...</td>\n",
       "      <td>...</td>\n",
       "      <td>...</td>\n",
       "    </tr>\n",
       "    <tr>\n",
       "      <th>72298</th>\n",
       "      <td>149532</td>\n",
       "      <td>fearful</td>\n",
       "      <td>0</td>\n",
       "    </tr>\n",
       "    <tr>\n",
       "      <th>72299</th>\n",
       "      <td>149532</td>\n",
       "      <td>happy</td>\n",
       "      <td>0</td>\n",
       "    </tr>\n",
       "    <tr>\n",
       "      <th>72300</th>\n",
       "      <td>149532</td>\n",
       "      <td>sad</td>\n",
       "      <td>0</td>\n",
       "    </tr>\n",
       "    <tr>\n",
       "      <th>72301</th>\n",
       "      <td>149532</td>\n",
       "      <td>surprised</td>\n",
       "      <td>0</td>\n",
       "    </tr>\n",
       "    <tr>\n",
       "      <th>72302</th>\n",
       "      <td>149532</td>\n",
       "      <td>neutral</td>\n",
       "      <td>0</td>\n",
       "    </tr>\n",
       "  </tbody>\n",
       "</table>\n",
       "<p>72303 rows × 3 columns</p>\n",
       "</div>"
      ],
      "text/plain": [
       "         user       mood                      genre\n",
       "0           1      angry                 ['Comedy']\n",
       "1           1  disgusted  ['Children', 'Animation']\n",
       "2           1    fearful                          0\n",
       "3           1      happy                          0\n",
       "4           1        sad                          0\n",
       "...       ...        ...                        ...\n",
       "72298  149532    fearful                          0\n",
       "72299  149532      happy                          0\n",
       "72300  149532        sad                          0\n",
       "72301  149532  surprised                          0\n",
       "72302  149532    neutral                          0\n",
       "\n",
       "[72303 rows x 3 columns]"
      ]
     },
     "execution_count": 30,
     "metadata": {},
     "output_type": "execute_result"
    }
   ],
   "source": [
    "genre_df"
   ]
  },
  {
   "cell_type": "code",
   "execution_count": null,
   "id": "945e159d",
   "metadata": {},
   "outputs": [],
   "source": []
  }
 ],
 "metadata": {
  "kernelspec": {
   "display_name": "Python 3 (ipykernel)",
   "language": "python",
   "name": "python3"
  },
  "language_info": {
   "codemirror_mode": {
    "name": "ipython",
    "version": 3
   },
   "file_extension": ".py",
   "mimetype": "text/x-python",
   "name": "python",
   "nbconvert_exporter": "python",
   "pygments_lexer": "ipython3",
   "version": "3.8.11"
  }
 },
 "nbformat": 4,
 "nbformat_minor": 5
}
