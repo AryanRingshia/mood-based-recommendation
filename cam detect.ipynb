{
 "cells": [
  {
   "cell_type": "code",
   "execution_count": 1,
   "metadata": {},
   "outputs": [
    {
     "name": "stderr",
     "output_type": "stream",
     "text": [
      "C:\\ProgramData\\Anaconda3\\lib\\site-packages\\requests\\__init__.py:89: RequestsDependencyWarning: urllib3 (1.26.7) or chardet (3.0.4) doesn't match a supported version!\n",
      "  warnings.warn(\"urllib3 ({}) or chardet ({}) doesn't match a supported \"\n"
     ]
    }
   ],
   "source": [
    "from tensorflow import keras\n",
    "from keras.models import load_model\n",
    "#model = keras.models.load_model('model_filter.h5')\n",
    "#model = keras.models.load_model('model_new.h5')\n",
    "model = keras.models.load_model('my_model.h5')\n",
    "#model.load_weights('model_new.h5')"
   ]
  },
  {
   "cell_type": "code",
   "execution_count": 2,
   "metadata": {},
   "outputs": [
    {
     "name": "stderr",
     "output_type": "stream",
     "text": [
      "<>:14: SyntaxWarning: \"is\" with a literal. Did you mean \"==\"?\n",
      "<>:14: SyntaxWarning: \"is\" with a literal. Did you mean \"==\"?\n",
      "<ipython-input-2-5d860f3b5547>:14: SyntaxWarning: \"is\" with a literal. Did you mean \"==\"?\n",
      "  if faces is ():\n"
     ]
    }
   ],
   "source": [
    "import cv2\n",
    "#from google.colab.patches import cv2_imshow\n",
    "import numpy as np\n",
    "import matplotlib.pyplot as plt\n",
    "from time import sleep\n",
    "from keras.preprocessing.image import img_to_array\n",
    "class_labels = {0: 'Angry', 1: 'Disgust', 2: 'Fear', 3: 'Happy', 4: 'Neutral', 5: 'Sad', 6: 'Surprise'}\n",
    "face_classifier = cv2.CascadeClassifier(cv2.data.haarcascades + \"haarcascade_frontalface_default.xml\")\n",
    "final_mood=[]\n",
    "def face_detector(img):\n",
    "    # Convert image to grayscale\n",
    "    gray = cv2.cvtColor(img,cv2.COLOR_BGR2GRAY)\n",
    "    faces = face_classifier.detectMultiScale(img, 1.3, 5)\n",
    "    if faces is ():\n",
    "        return (0,0,0,0), np.zeros((48,48), np.uint8), img\n",
    "    \n",
    "    for (x,y,w,h) in faces:\n",
    "        cv2.rectangle(img,(x,y),(x+w,y+h),(255,0,0),2)\n",
    "        roi_gray = gray[y:y+h, x:x+w]\n",
    "\n",
    "    try:\n",
    "        roi_gray = cv2.resize(roi_gray, (48, 48), interpolation = cv2.INTER_AREA)\n",
    "    except:\n",
    "        return (x,w,y,h), np.zeros((48,48), np.uint8), img\n",
    "    return (x,w,y,h), roi_gray, img\n",
    "\n",
    "cap = cv2.VideoCapture(0)\n",
    "\n",
    "while True:\n",
    "\n",
    "    ret, frame = cap.read()\n",
    "    rect, face, image = face_detector(frame)\n",
    "    if np.sum([face]) != 0.0:\n",
    "        roi = face.astype(\"float\") / 255.0\n",
    "        roi = img_to_array(roi)\n",
    "        roi = np.expand_dims(roi, axis=0)\n",
    "\n",
    "        # make a prediction on the ROI, then lookup the class\n",
    "        preds = model.predict(roi)[0]\n",
    "        label = class_labels[preds.argmax()]  \n",
    "        #print(label)\n",
    "        final_mood.append(label)\n",
    "        label_position = (rect[0] + int((rect[1]/2)), rect[2] + 25)\n",
    "        cv2.putText(image, label, label_position , cv2.FONT_HERSHEY_SIMPLEX,2, (0,255,0), 3)\n",
    "    else:\n",
    "        cv2.putText(image, \"No Face Found\", (20, 60) , cv2.FONT_HERSHEY_SIMPLEX,2, (0,255,0), 3)\n",
    "        \n",
    "    cv2.imshow(\"emotion detection\",image)\n",
    "    if cv2.waitKey(2) & 0xFF == ord('q'):\n",
    "        break\n",
    "        \n",
    "cap.release()\n",
    "cv2.destroyAllWindows()  "
   ]
  },
  {
   "cell_type": "code",
   "execution_count": 3,
   "metadata": {},
   "outputs": [
    {
     "data": {
      "text/plain": [
       "['Happy',\n",
       " 'Happy',\n",
       " 'Happy',\n",
       " 'Happy',\n",
       " 'Happy',\n",
       " 'Happy',\n",
       " 'Happy',\n",
       " 'Happy',\n",
       " 'Happy',\n",
       " 'Happy',\n",
       " 'Happy',\n",
       " 'Happy',\n",
       " 'Happy',\n",
       " 'Happy',\n",
       " 'Happy',\n",
       " 'Happy',\n",
       " 'Happy',\n",
       " 'Happy',\n",
       " 'Happy',\n",
       " 'Happy',\n",
       " 'Happy',\n",
       " 'Happy',\n",
       " 'Happy',\n",
       " 'Happy',\n",
       " 'Happy',\n",
       " 'Happy',\n",
       " 'Happy',\n",
       " 'Happy',\n",
       " 'Happy',\n",
       " 'Happy',\n",
       " 'Happy',\n",
       " 'Happy',\n",
       " 'Happy',\n",
       " 'Happy',\n",
       " 'Happy',\n",
       " 'Happy',\n",
       " 'Happy',\n",
       " 'Happy',\n",
       " 'Happy',\n",
       " 'Happy',\n",
       " 'Happy',\n",
       " 'Happy',\n",
       " 'Happy',\n",
       " 'Happy',\n",
       " 'Happy',\n",
       " 'Happy',\n",
       " 'Happy',\n",
       " 'Happy',\n",
       " 'Happy',\n",
       " 'Happy',\n",
       " 'Happy',\n",
       " 'Happy',\n",
       " 'Happy',\n",
       " 'Happy',\n",
       " 'Happy',\n",
       " 'Happy',\n",
       " 'Happy',\n",
       " 'Happy',\n",
       " 'Happy',\n",
       " 'Happy',\n",
       " 'Happy',\n",
       " 'Happy',\n",
       " 'Happy',\n",
       " 'Happy',\n",
       " 'Happy',\n",
       " 'Happy',\n",
       " 'Happy',\n",
       " 'Happy',\n",
       " 'Happy',\n",
       " 'Happy',\n",
       " 'Happy',\n",
       " 'Happy',\n",
       " 'Happy',\n",
       " 'Happy',\n",
       " 'Happy',\n",
       " 'Happy',\n",
       " 'Happy',\n",
       " 'Happy',\n",
       " 'Happy',\n",
       " 'Happy',\n",
       " 'Happy',\n",
       " 'Happy',\n",
       " 'Happy',\n",
       " 'Happy',\n",
       " 'Happy',\n",
       " 'Happy',\n",
       " 'Happy',\n",
       " 'Happy',\n",
       " 'Happy',\n",
       " 'Happy',\n",
       " 'Happy',\n",
       " 'Happy',\n",
       " 'Happy',\n",
       " 'Happy',\n",
       " 'Happy',\n",
       " 'Happy',\n",
       " 'Happy',\n",
       " 'Happy',\n",
       " 'Happy',\n",
       " 'Happy',\n",
       " 'Happy',\n",
       " 'Happy',\n",
       " 'Happy',\n",
       " 'Happy',\n",
       " 'Happy',\n",
       " 'Happy',\n",
       " 'Happy',\n",
       " 'Happy',\n",
       " 'Happy',\n",
       " 'Happy',\n",
       " 'Happy',\n",
       " 'Happy',\n",
       " 'Happy',\n",
       " 'Happy',\n",
       " 'Happy',\n",
       " 'Happy',\n",
       " 'Happy']"
      ]
     },
     "execution_count": 3,
     "metadata": {},
     "output_type": "execute_result"
    }
   ],
   "source": [
    "final_mood"
   ]
  },
  {
   "cell_type": "code",
   "execution_count": 5,
   "metadata": {},
   "outputs": [],
   "source": [
    "mood= max(final_mood,key=final_mood.count)"
   ]
  },
  {
   "cell_type": "code",
   "execution_count": 6,
   "metadata": {},
   "outputs": [
    {
     "data": {
      "text/plain": [
       "'Happy'"
      ]
     },
     "execution_count": 6,
     "metadata": {},
     "output_type": "execute_result"
    }
   ],
   "source": [
    "mood"
   ]
  },
  {
   "cell_type": "code",
   "execution_count": null,
   "metadata": {},
   "outputs": [],
   "source": []
  }
 ],
 "metadata": {
  "kernelspec": {
   "display_name": "Python 3 (ipykernel)",
   "language": "python",
   "name": "python3"
  },
  "language_info": {
   "codemirror_mode": {
    "name": "ipython",
    "version": 3
   },
   "file_extension": ".py",
   "mimetype": "text/x-python",
   "name": "python",
   "nbconvert_exporter": "python",
   "pygments_lexer": "ipython3",
   "version": "3.8.11"
  }
 },
 "nbformat": 4,
 "nbformat_minor": 4
}
